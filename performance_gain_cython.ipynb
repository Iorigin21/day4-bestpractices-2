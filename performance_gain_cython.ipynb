{
 "cells": [
  {
   "cell_type": "code",
   "execution_count": 1,
   "id": "c3700abb",
   "metadata": {},
   "outputs": [],
   "source": [
    "import cyprimes"
   ]
  },
  {
   "cell_type": "code",
   "execution_count": 2,
   "id": "f00d543e",
   "metadata": {},
   "outputs": [
    {
     "name": "stdout",
     "output_type": "stream",
     "text": [
      "7.74 ms ± 49.5 µs per loop (mean ± std. dev. of 7 runs, 100 loops each)\n"
     ]
    }
   ],
   "source": [
    "%timeit cyprimes.primes(2000)"
   ]
  },
  {
   "cell_type": "code",
   "execution_count": 3,
   "id": "eb68858b",
   "metadata": {},
   "outputs": [],
   "source": [
    "import primes"
   ]
  },
  {
   "cell_type": "code",
   "execution_count": 4,
   "id": "38a7a11c",
   "metadata": {},
   "outputs": [
    {
     "name": "stdout",
     "output_type": "stream",
     "text": [
      "896 ms ± 4.72 ms per loop (mean ± std. dev. of 7 runs, 1 loop each)\n"
     ]
    }
   ],
   "source": [
    "%timeit primes.primes(2000)"
   ]
  },
  {
   "cell_type": "code",
   "execution_count": null,
   "id": "2d5205a9",
   "metadata": {},
   "outputs": [],
   "source": []
  }
 ],
 "metadata": {
  "kernelspec": {
   "display_name": "Python 3",
   "language": "python",
   "name": "python3"
  },
  "language_info": {
   "codemirror_mode": {
    "name": "ipython",
    "version": 3
   },
   "file_extension": ".py",
   "mimetype": "text/x-python",
   "name": "python",
   "nbconvert_exporter": "python",
   "pygments_lexer": "ipython3",
   "version": "3.9.2"
  }
 },
 "nbformat": 4,
 "nbformat_minor": 5
}
